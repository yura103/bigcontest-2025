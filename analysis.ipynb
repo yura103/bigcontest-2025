{
 "cells": [
  {
   "cell_type": "code",
   "execution_count": 1,
   "metadata": {},
   "outputs": [],
   "source": [
    "import pandas as pd\n",
    "\n",
    "# 1. Load and combine data\n",
    "df1 = pd.read_csv('Data/big_data_set1_f.csv', encoding='cp949')\n",
    "df2 = pd.read_csv('Data/big_data_set2_f.csv', encoding='cp949')\n",
    "df3 = pd.read_csv('Data/big_data_set3_f.csv', encoding='cp949')\n",
    "df = pd.concat([df1, df2, df3])"
   ]
  },
  {
   "cell_type": "code",
   "execution_count": 2,
   "metadata": {},
   "outputs": [],
   "source": [
    "# Rename columns for clarity\n",
    "df.rename(columns={\n",
    "    'HPSN_MCT_BZN_CD_NM': '업종',\n",
    "    'HPSN_MCT_ZCD_NM': '상권',\n",
    "    'ARE_D': '개설일',\n",
    "    'MCT_ME_D': '폐업일'\n",
    "}, inplace=True)"
   ]
  },
  {
   "cell_type": "code",
   "execution_count": 3,
   "metadata": {},
   "outputs": [
    {
     "name": "stderr",
     "output_type": "stream",
     "text": [
      "C:\\Users\\2-09\\AppData\\Local\\Temp\\ipykernel_19164\\963814098.py:3: SettingWithCopyWarning: \n",
      "A value is trying to be set on a copy of a slice from a DataFrame.\n",
      "Try using .loc[row_indexer,col_indexer] = value instead\n",
      "\n",
      "See the caveats in the documentation: https://pandas.pydata.org/pandas-docs/stable/user_guide/indexing.html#returning-a-view-versus-a-copy\n",
      "  df_closed['개설일'] = pd.to_datetime(df_closed['개설일'], format='%Y%m%d')\n",
      "C:\\Users\\2-09\\AppData\\Local\\Temp\\ipykernel_19164\\963814098.py:4: SettingWithCopyWarning: \n",
      "A value is trying to be set on a copy of a slice from a DataFrame.\n",
      "Try using .loc[row_indexer,col_indexer] = value instead\n",
      "\n",
      "See the caveats in the documentation: https://pandas.pydata.org/pandas-docs/stable/user_guide/indexing.html#returning-a-view-versus-a-copy\n",
      "  df_closed['폐업일'] = pd.to_datetime(df_closed['폐업일'], format='%Y%m%d')\n",
      "C:\\Users\\2-09\\AppData\\Local\\Temp\\ipykernel_19164\\963814098.py:5: SettingWithCopyWarning: \n",
      "A value is trying to be set on a copy of a slice from a DataFrame.\n",
      "Try using .loc[row_indexer,col_indexer] = value instead\n",
      "\n",
      "See the caveats in the documentation: https://pandas.pydata.org/pandas-docs/stable/user_guide/indexing.html#returning-a-view-versus-a-copy\n",
      "  df_closed['영업기간'] = (df_closed['폐업일'] - df_closed['개설일']).dt.days\n"
     ]
    }
   ],
   "source": [
    "# 2. Calculate business lifespan\n",
    "df_closed = df.dropna(subset=['폐업일'])\n",
    "df_closed['개설일'] = pd.to_datetime(df_closed['개설일'], format='%Y%m%d')\n",
    "df_closed['폐업일'] = pd.to_datetime(df_closed['폐업일'], format='%Y%m%d')\n",
    "df_closed['영업기간'] = (df_closed['폐업일'] - df_closed['개설일']).dt.days"
   ]
  },
  {
   "cell_type": "code",
   "execution_count": 4,
   "metadata": {},
   "outputs": [
    {
     "name": "stdout",
     "output_type": "stream",
     "text": [
      "--- 업종 별 평균 영업 기간 ---\n",
      "        업종  평균영업기간_년\n",
      "3      마장동  7.969406\n",
      "5      신금호  6.073973\n",
      "0     금남시장  4.772994\n",
      "4       성수  4.748989\n",
      "9      한양대  4.610372\n",
      "1      답십리  4.584018\n",
      "8   장한평자동차  4.206849\n",
      "6       옥수  4.104110\n",
      "7      왕십리  4.050228\n",
      "2       뚝섬  3.686454\n",
      "10      행당  3.356164\n"
     ]
    }
   ],
   "source": [
    "# 3. Analysis 1: Average lifespan by business category\n",
    "avg_lifespan_by_category = df_closed.groupby('업종')['영업기간'].mean().reset_index()\n",
    "avg_lifespan_by_category['평균영업기간_년'] = avg_lifespan_by_category['영업기간'] / 365\n",
    "print('--- 업종 별 평균 영업 기간 ---')\n",
    "print(avg_lifespan_by_category[['업종', '평균영업기간_년']].sort_values(by='평균영업기간_년', ascending=False))"
   ]
  },
  {
   "cell_type": "code",
   "execution_count": 5,
   "metadata": {},
   "outputs": [
    {
     "name": "stdout",
     "output_type": "stream",
     "text": [
      "--- 상권 별 평균 영업 기간 ---\n",
      "             상권   평균영업기간_년\n",
      "11        식품 제조  11.997260\n",
      "33          햄버거  10.024658\n",
      "17      일반 유흥주점   8.339726\n",
      "18      일식-샤브샤브   7.816438\n",
      "3      동남아/인도음식   7.109589\n",
      "23          축산물   6.943249\n",
      "32     한식-해물/생선   6.281644\n",
      "26        커피전문점   6.183014\n",
      "4       떡/한과 제조   6.041096\n",
      "29    한식-국밥/설렁탕   5.972603\n",
      "9           수산물   5.873973\n",
      "24           치킨   5.196477\n",
      "14          와인바   5.180822\n",
      "31     한식-육류/고기   4.888917\n",
      "5        백반/가정식   4.861187\n",
      "16         요리주점   4.738356\n",
      "30    한식-단품요리일반   4.532116\n",
      "22          중식당   3.977169\n",
      "25           카페   3.960046\n",
      "7            분식   3.834247\n",
      "13           양식   3.737769\n",
      "6          베이커리   3.425571\n",
      "8      샌드위치/토스트   3.326941\n",
      "28           피자   3.202740\n",
      "19  일식-우동/소바/라면   2.945205\n",
      "34        호프/맥주   2.715068\n",
      "15          와인샵   2.668493\n",
      "21    중식-훠궈/마라탕   2.569863\n",
      "20          일식당   2.062466\n",
      "2           도시락   1.958904\n",
      "0     구내식당/푸드코트   1.816438\n",
      "1        기타세계요리   1.457534\n",
      "10          식료품   1.386986\n",
      "27         포장마차   0.904110\n",
      "12     아이스크림/빙수   0.545205\n"
     ]
    }
   ],
   "source": [
    "# 4. Analysis 2: Average lifespan by commercial district\n",
    "avg_lifespan_by_district = df_closed.groupby('상권')['영업기간'].mean().reset_index()\n",
    "avg_lifespan_by_district['평균영업기간_년'] = avg_lifespan_by_district['영업기간'] / 365\n",
    "print('--- 상권 별 평균 영업 기간 ---')\n",
    "print(avg_lifespan_by_district[['상권', '평균영업기간_년']].sort_values(by='평균영업기간_년', ascending=False))"
   ]
  },
  {
   "cell_type": "code",
   "execution_count": 6,
   "metadata": {},
   "outputs": [
    {
     "name": "stdout",
     "output_type": "stream",
     "text": [
      "--- 상권별 가장 많은 업종 BEST 5 ---\n",
      "        상권      업종  업종수\n",
      "2     건강식품     왕십리    4\n",
      "0     건강식품    금남시장    2\n",
      "4     건강식품      행당    2\n",
      "1     건강식품  압구정로데오    1\n",
      "3     건강식품  장한평자동차    1\n",
      "..     ...     ...  ...\n",
      "441  호프/맥주     왕십리   15\n",
      "442  호프/맥주     한양대   14\n",
      "438  호프/맥주      성수   12\n",
      "434  호프/맥주    금남시장    6\n",
      "436  호프/맥주      뚝섬    6\n",
      "\n",
      "[291 rows x 3 columns]\n"
     ]
    }
   ],
   "source": [
    "# 5. Analysis 3: Top 5 business categories per commercial district\n",
    "top5_by_district = df.groupby(['상권', '업종']).size().reset_index(name='업종수')\n",
    "top5_by_district = top5_by_district.sort_values(['상권', '업종수'], ascending=[True, False])\n",
    "top5_results = top5_by_district.groupby('상권').head(5)\n",
    "print('--- 상권별 가장 많은 업종 BEST 5 ---')\n",
    "print(top5_results)"
   ]
  },
  {
   "cell_type": "code",
   "execution_count": null,
   "metadata": {},
   "outputs": [],
   "source": []
  }
 ],
 "metadata": {
  "kernelspec": {
   "display_name": ".venv",
   "language": "python",
   "name": "python3"
  },
  "language_info": {
   "codemirror_mode": {
    "name": "ipython",
    "version": 3
   },
   "file_extension": ".py",
   "mimetype": "text/x-python",
   "name": "python",
   "nbconvert_exporter": "python",
   "pygments_lexer": "ipython3",
   "version": "3.13.5"
  }
 },
 "nbformat": 4,
 "nbformat_minor": 4
}
